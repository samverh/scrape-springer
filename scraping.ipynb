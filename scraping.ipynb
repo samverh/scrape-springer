{
 "cells": [
  {
   "cell_type": "code",
   "execution_count": 1,
   "metadata": {},
   "outputs": [],
   "source": [
    "from bs4 import BeautifulSoup\n",
    "import csv\n",
    "import time\n",
    "import requests\n",
    "import pandas as pd\n",
    "from tqdm.notebook import tqdm\n",
    "import seaborn as sns\n",
    "import matplotlib.pyplot as plt\n",
    "sns.set()"
   ]
  },
  {
   "cell_type": "code",
   "execution_count": 2,
   "metadata": {},
   "outputs": [],
   "source": [
    "journal_selection = \"all\"\n",
    "max_pages = 50\n",
    "extra_info = \"keyword_depression\""
   ]
  },
  {
   "attachments": {},
   "cell_type": "markdown",
   "metadata": {},
   "source": [
    "## Scraping"
   ]
  },
  {
   "cell_type": "code",
   "execution_count": 3,
   "metadata": {},
   "outputs": [],
   "source": [
    "def get_soup(url):\n",
    "    \"\"\"\n",
    "    Extract page as html using BeautifulSoup.\n",
    "    \"\"\"\n",
    "    response = requests.get(url)\n",
    "    soup = BeautifulSoup(response.content, 'html.parser')\n",
    "\n",
    "    return soup"
   ]
  },
  {
   "cell_type": "code",
   "execution_count": 4,
   "metadata": {},
   "outputs": [],
   "source": [
    "def make_url(page):\n",
    "    # url = f\"https://link.springer.com/search/page/{page}?query=depression&facet-discipline=%22Psychology%22&facet-start-year=2018&facet-language=%22En%22&sortOrder=newestFirst&query=depression&facet-end-year=2024&facet-content-type=%22Article%22\"\n",
    "    # url = f\"https://link.springer.com/search/page/{page}?date-facet-mode=between&facet-discipline=%22Psychology%22&facet-start-year=2018&facet-language=%22En%22&sortOrder=newestFirst&facet-end-year=2023&facet-content-type=%22Article%22\"\n",
    "    url = f\"https://link.springer.com/search/page/{page}?facet-end-year=2023&date-facet-mode=between&previous-end-year=2023&sortOrder=newestFirst&query=depression&previous-start-year=1832&facet-start-year=2019&facet-content-type=%22Article%22\"\n",
    "    return url"
   ]
  },
  {
   "cell_type": "code",
   "execution_count": 5,
   "metadata": {},
   "outputs": [],
   "source": [
    "allowed_journals = [\"European Archives of Psychiatry and Clinical Neuroscience\"]"
   ]
  },
  {
   "cell_type": "code",
   "execution_count": 6,
   "metadata": {},
   "outputs": [
    {
     "data": {
      "application/vnd.jupyter.widget-view+json": {
       "model_id": "38ae5de1751c474c844aa1f4681fc22b",
       "version_major": 2,
       "version_minor": 0
      },
      "text/plain": [
       "  0%|          | 0/50 [00:00<?, ?it/s]"
      ]
     },
     "metadata": {},
     "output_type": "display_data"
    }
   ],
   "source": [
    "# store results for multiple pages\n",
    "hrefs_results = []\n",
    "\n",
    "for page in tqdm(range(0, max_pages)):\n",
    "\n",
    "    # get page results\n",
    "    url = make_url(page)\n",
    "    soup = get_soup(url)\n",
    "    # print(soup)\n",
    "\n",
    "    # get all citations and extract links to article\n",
    "    journals = soup.find_all('a', {'class': \"publication-title\"})\n",
    "    for journal in journals:\n",
    "        # if journal[\"title\"] in allowed_journals:\n",
    "        #     print(\"JA\")\n",
    "        citations = soup.find_all('a', {'class': 'title'}, href=True)\n",
    "        hrefs = [citation[\"href\"] for citation in citations]\n",
    "        hrefs_results += hrefs\n",
    "\n",
    "    # extract text and remove tag\n",
    "    # citations = [citation.get_text() for citation in citations]\n",
    "    \n",
    "    # keep only journals of interest\n",
    "    # citations = [citation for citation in citations if citation.split('.')[0] in journals]\n",
    "    # results += citations\n",
    "    "
   ]
  },
  {
   "cell_type": "code",
   "execution_count": 7,
   "metadata": {},
   "outputs": [],
   "source": [
    "# hrefs_results"
   ]
  },
  {
   "cell_type": "code",
   "execution_count": 8,
   "metadata": {},
   "outputs": [
    {
     "name": "stdout",
     "output_type": "stream",
     "text": [
      "\n"
     ]
    },
    {
     "data": {
      "application/vnd.jupyter.widget-view+json": {
       "model_id": "07400105bddc4845ae9dcb56fd2f7b74",
       "version_major": 2,
       "version_minor": 0
      },
      "text/plain": [
       "  0%|          | 0/20000 [00:00<?, ?it/s]"
      ]
     },
     "metadata": {},
     "output_type": "display_data"
    }
   ],
   "source": [
    "springer_url = \"https://link.springer.com\"\n",
    "\n",
    "all_dates = {\"Received\": [], \"Accepted\": [], \"Published\": []}\n",
    "print()\n",
    "\n",
    "# extract date info for all article links obtained in previous cell\n",
    "for href in tqdm(hrefs_results):\n",
    "    url = springer_url + href\n",
    "    soup = get_soup(url)\n",
    "\n",
    "    # dates are stored in list\n",
    "    dates = soup.find_all('ul', {'class': 'c-bibliographic-information__list'})\n",
    "    for date in dates:\n",
    "\n",
    "        # check each element in the list of dates\n",
    "        subsoup = date.findAll('p')\n",
    "        for i, soup in enumerate(subsoup):\n",
    "\n",
    "            # store item if it is of interest and has time set\n",
    "            for date_type in [\"Received\", \"Published\", \"Accepted\"]:\n",
    "                if date_type in soup.get_text():\n",
    "                    day = soup.find('time')\n",
    "                    day = day[\"datetime\"]\n",
    "                    all_dates[date_type].append(day)"
   ]
  },
  {
   "attachments": {},
   "cell_type": "markdown",
   "metadata": {},
   "source": [
    "## Data formatting"
   ]
  },
  {
   "cell_type": "code",
   "execution_count": 9,
   "metadata": {},
   "outputs": [
    {
     "data": {
      "text/html": [
       "<div>\n",
       "<style scoped>\n",
       "    .dataframe tbody tr th:only-of-type {\n",
       "        vertical-align: middle;\n",
       "    }\n",
       "\n",
       "    .dataframe tbody tr th {\n",
       "        vertical-align: top;\n",
       "    }\n",
       "\n",
       "    .dataframe thead th {\n",
       "        text-align: right;\n",
       "    }\n",
       "</style>\n",
       "<table border=\"1\" class=\"dataframe\">\n",
       "  <thead>\n",
       "    <tr style=\"text-align: right;\">\n",
       "      <th></th>\n",
       "      <th>Received</th>\n",
       "    </tr>\n",
       "  </thead>\n",
       "  <tbody>\n",
       "    <tr>\n",
       "      <th>0</th>\n",
       "      <td>2022-11-19</td>\n",
       "    </tr>\n",
       "    <tr>\n",
       "      <th>1</th>\n",
       "      <td>2022-10-07</td>\n",
       "    </tr>\n",
       "    <tr>\n",
       "      <th>2</th>\n",
       "      <td>2022-12-03</td>\n",
       "    </tr>\n",
       "    <tr>\n",
       "      <th>3</th>\n",
       "      <td>2022-04-16</td>\n",
       "    </tr>\n",
       "    <tr>\n",
       "      <th>4</th>\n",
       "      <td>2022-04-12</td>\n",
       "    </tr>\n",
       "  </tbody>\n",
       "</table>\n",
       "</div>"
      ],
      "text/plain": [
       "    Received\n",
       "0 2022-11-19\n",
       "1 2022-10-07\n",
       "2 2022-12-03\n",
       "3 2022-04-16\n",
       "4 2022-04-12"
      ]
     },
     "execution_count": 9,
     "metadata": {},
     "output_type": "execute_result"
    }
   ],
   "source": [
    "# convert received list to dataframe\n",
    "df_received = pd.DataFrame(all_dates[\"Received\"], columns=[\"Received\"])\n",
    "df_received[\"Received\"] = pd.to_datetime(df_received[\"Received\"])\n",
    "df_received.head()"
   ]
  },
  {
   "cell_type": "code",
   "execution_count": 10,
   "metadata": {},
   "outputs": [
    {
     "data": {
      "text/html": [
       "<div>\n",
       "<style scoped>\n",
       "    .dataframe tbody tr th:only-of-type {\n",
       "        vertical-align: middle;\n",
       "    }\n",
       "\n",
       "    .dataframe tbody tr th {\n",
       "        vertical-align: top;\n",
       "    }\n",
       "\n",
       "    .dataframe thead th {\n",
       "        text-align: right;\n",
       "    }\n",
       "</style>\n",
       "<table border=\"1\" class=\"dataframe\">\n",
       "  <thead>\n",
       "    <tr style=\"text-align: right;\">\n",
       "      <th></th>\n",
       "      <th>Accepted</th>\n",
       "    </tr>\n",
       "  </thead>\n",
       "  <tbody>\n",
       "    <tr>\n",
       "      <th>0</th>\n",
       "      <td>2021-03-03</td>\n",
       "    </tr>\n",
       "    <tr>\n",
       "      <th>1</th>\n",
       "      <td>2022-08-29</td>\n",
       "    </tr>\n",
       "    <tr>\n",
       "      <th>2</th>\n",
       "      <td>2022-12-09</td>\n",
       "    </tr>\n",
       "    <tr>\n",
       "      <th>3</th>\n",
       "      <td>2022-12-07</td>\n",
       "    </tr>\n",
       "    <tr>\n",
       "      <th>4</th>\n",
       "      <td>2022-12-07</td>\n",
       "    </tr>\n",
       "  </tbody>\n",
       "</table>\n",
       "</div>"
      ],
      "text/plain": [
       "    Accepted\n",
       "0 2021-03-03\n",
       "1 2022-08-29\n",
       "2 2022-12-09\n",
       "3 2022-12-07\n",
       "4 2022-12-07"
      ]
     },
     "execution_count": 10,
     "metadata": {},
     "output_type": "execute_result"
    }
   ],
   "source": [
    "# convert accepted list to dataframe (separate since list lengths differ)\n",
    "df_accepted = pd.DataFrame(all_dates[\"Accepted\"], columns=[\"Accepted\"])\n",
    "df_accepted[\"Accepted\"] = pd.to_datetime(df_accepted[\"Accepted\"])\n",
    "df_accepted.head()"
   ]
  },
  {
   "cell_type": "code",
   "execution_count": 11,
   "metadata": {},
   "outputs": [
    {
     "data": {
      "text/plain": [
       "((14400, 1), (19560, 1))"
      ]
     },
     "execution_count": 11,
     "metadata": {},
     "output_type": "execute_result"
    }
   ],
   "source": [
    "df_received.shape, df_accepted.shape"
   ]
  },
  {
   "cell_type": "code",
   "execution_count": 12,
   "metadata": {},
   "outputs": [],
   "source": [
    "# store dfs as csv\n",
    "df_received.to_csv(f\"data/df_received_{max_pages}_{journal_selection}_{extra_info}.csv\", index=False)\n",
    "df_accepted.to_csv(f\"data/df_accepted_{max_pages}_{journal_selection}_{extra_info}.csv\", index=False)"
   ]
  }
 ],
 "metadata": {
  "kernelspec": {
   "display_name": "Python 3",
   "language": "python",
   "name": "python3"
  },
  "language_info": {
   "codemirror_mode": {
    "name": "ipython",
    "version": 3
   },
   "file_extension": ".py",
   "mimetype": "text/x-python",
   "name": "python",
   "nbconvert_exporter": "python",
   "pygments_lexer": "ipython3",
   "version": "3.10.4"
  },
  "orig_nbformat": 4
 },
 "nbformat": 4,
 "nbformat_minor": 2
}
